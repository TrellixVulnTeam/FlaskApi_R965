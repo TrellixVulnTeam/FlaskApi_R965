{
 "cells": [
  {
   "cell_type": "code",
   "execution_count": 1,
   "metadata": {},
   "outputs": [],
   "source": [
    "import pandas as pd\n",
    "import requests\n",
    "from bs4 import BeautifulSoup"
   ]
  },
  {
   "cell_type": "code",
   "execution_count": 2,
   "metadata": {},
   "outputs": [],
   "source": [
    "url = \"http://feeds.bbci.co.uk/news/rss.xml\""
   ]
  },
  {
   "cell_type": "code",
   "execution_count": 3,
   "metadata": {},
   "outputs": [],
   "source": [
    "requests = requests.get(url)\n",
    "soup = BeautifulSoup(requests.text, \"html.parser\")\n",
    "items = soup.findAll(\"item\")\n",
    "item = items[0]"
   ]
  },
  {
   "cell_type": "code",
   "execution_count": 4,
   "metadata": {},
   "outputs": [
    {
     "data": {
      "text/plain": [
       "'The US and UK leaders shared a call after Russia too suggested a diplomatic solution was still possible.'"
      ]
     },
     "execution_count": 4,
     "metadata": {},
     "output_type": "execute_result"
    }
   ],
   "source": [
    "item.title.text\n",
    "item.description.text\n"
   ]
  },
  {
   "cell_type": "code",
   "execution_count": 5,
   "metadata": {},
   "outputs": [],
   "source": [
    "news_items = []\n",
    "for i in items:\n",
    "    news_i = {}\n",
    "    news_i[\"title\"] = i.title.text\n",
    "    news_i[\"description\"] = i.description.text\n",
    "    news_i[\"pubDate\"] = i.pubDate\n",
    "    news_items.append(news_i)"
   ]
  },
  {
   "cell_type": "code",
   "execution_count": 11,
   "metadata": {},
   "outputs": [
    {
     "name": "stderr",
     "output_type": "stream",
     "text": [
      "[nltk_data] Downloading package punkt to\n",
      "[nltk_data]     C:\\Users\\lajaa\\AppData\\Roaming\\nltk_data...\n",
      "[nltk_data]   Unzipping tokenizers\\punkt.zip.\n"
     ]
    }
   ],
   "source": [
    "# compter les mots dans la description\n",
    "import nltk\n",
    "from nltk.tokenize import word_tokenize\n",
    "nltk.download('punkt')\n",
    "\n",
    "\n",
    "word = word_tokenize(item.description.text)"
   ]
  },
  {
   "cell_type": "code",
   "execution_count": 13,
   "metadata": {},
   "outputs": [
    {
     "data": {
      "text/plain": [
       "[('a', 2),\n",
       " ('The', 1),\n",
       " ('US', 1),\n",
       " ('and', 1),\n",
       " ('UK', 1),\n",
       " ('leaders', 1),\n",
       " ('shared', 1),\n",
       " ('call', 1),\n",
       " ('after', 1),\n",
       " ('Russia', 1)]"
      ]
     },
     "execution_count": 13,
     "metadata": {},
     "output_type": "execute_result"
    }
   ],
   "source": [
    "# afficher le nombre de fois que chaque mot apparait dans la description\n",
    "from collections import Counter\n",
    "coute = Counter(word)\n",
    "coute.most_common(10)\n"
   ]
  },
  {
   "cell_type": "code",
   "execution_count": 16,
   "metadata": {},
   "outputs": [],
   "source": [
    "# creer un arbre binaire de recherche\n",
    "from sklearn.feature_extraction.text import CountVectorizer\n",
    "abr = CountVectorizer()\n"
   ]
  },
  {
   "cell_type": "code",
   "execution_count": 7,
   "metadata": {},
   "outputs": [
    {
     "data": {
      "text/html": [
       "<div>\n",
       "<style scoped>\n",
       "    .dataframe tbody tr th:only-of-type {\n",
       "        vertical-align: middle;\n",
       "    }\n",
       "\n",
       "    .dataframe tbody tr th {\n",
       "        vertical-align: top;\n",
       "    }\n",
       "\n",
       "    .dataframe thead th {\n",
       "        text-align: right;\n",
       "    }\n",
       "</style>\n",
       "<table border=\"1\" class=\"dataframe\">\n",
       "  <thead>\n",
       "    <tr style=\"text-align: right;\">\n",
       "      <th></th>\n",
       "      <th>title</th>\n",
       "      <th>description</th>\n",
       "      <th>pubDate</th>\n",
       "    </tr>\n",
       "  </thead>\n",
       "  <tbody>\n",
       "    <tr>\n",
       "      <th>0</th>\n",
       "      <td>Ukraine crisis: Biden and Johnson say still ho...</td>\n",
       "      <td>The US and UK leaders shared a call after Russ...</td>\n",
       "      <td>None</td>\n",
       "    </tr>\n",
       "    <tr>\n",
       "      <th>1</th>\n",
       "      <td>Met Police: Some officers are racist, professi...</td>\n",
       "      <td>Bas Javid pledges to remove racist staff, but ...</td>\n",
       "      <td>None</td>\n",
       "    </tr>\n",
       "    <tr>\n",
       "      <th>2</th>\n",
       "      <td>UK wage growth continues to trail cost of living</td>\n",
       "      <td>Real pay fell by 0.8% between October and Dece...</td>\n",
       "      <td>None</td>\n",
       "    </tr>\n",
       "    <tr>\n",
       "      <th>3</th>\n",
       "      <td>Valieva 'emotionally tired' as she goes for gold</td>\n",
       "      <td>Russian figure skater Kamila Valieva has argue...</td>\n",
       "      <td>None</td>\n",
       "    </tr>\n",
       "    <tr>\n",
       "      <th>4</th>\n",
       "      <td>Leah Croucher: Parents talk of trolling three ...</td>\n",
       "      <td>Leah Croucher was last seen on CCTV footage th...</td>\n",
       "      <td>None</td>\n",
       "    </tr>\n",
       "  </tbody>\n",
       "</table>\n",
       "</div>"
      ],
      "text/plain": [
       "                                               title  \\\n",
       "0  Ukraine crisis: Biden and Johnson say still ho...   \n",
       "1  Met Police: Some officers are racist, professi...   \n",
       "2   UK wage growth continues to trail cost of living   \n",
       "3   Valieva 'emotionally tired' as she goes for gold   \n",
       "4  Leah Croucher: Parents talk of trolling three ...   \n",
       "\n",
       "                                         description pubDate  \n",
       "0  The US and UK leaders shared a call after Russ...    None  \n",
       "1  Bas Javid pledges to remove racist staff, but ...    None  \n",
       "2  Real pay fell by 0.8% between October and Dece...    None  \n",
       "3  Russian figure skater Kamila Valieva has argue...    None  \n",
       "4  Leah Croucher was last seen on CCTV footage th...    None  "
      ]
     },
     "execution_count": 7,
     "metadata": {},
     "output_type": "execute_result"
    }
   ],
   "source": [
    "df = pd.DataFrame(news_items, columns=[\"title\", \"description\", \"pubDate\"])\n",
    "df.head()"
   ]
  },
  {
   "cell_type": "code",
   "execution_count": 8,
   "metadata": {},
   "outputs": [],
   "source": [
    "df.to_csv(\"news.csv\", index=False, encoding=\"utf-8\")"
   ]
  }
 ],
 "metadata": {
  "interpreter": {
   "hash": "b7d63767994f37dfa86e26829ddb127347db566fbcb91120cb86aef8ecfa4d78"
  },
  "kernelspec": {
   "display_name": "Python 3.9.5 64-bit",
   "language": "python",
   "name": "python3"
  },
  "language_info": {
   "codemirror_mode": {
    "name": "ipython",
    "version": 3
   },
   "file_extension": ".py",
   "mimetype": "text/x-python",
   "name": "python",
   "nbconvert_exporter": "python",
   "pygments_lexer": "ipython3",
   "version": "3.9.5"
  },
  "orig_nbformat": 4
 },
 "nbformat": 4,
 "nbformat_minor": 2
}
